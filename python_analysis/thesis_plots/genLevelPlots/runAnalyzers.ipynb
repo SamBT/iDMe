{
 "cells": [
  {
   "cell_type": "code",
   "execution_count": 1,
   "id": "ff0d6e4a-afac-4f2c-bfb6-256cb15351fe",
   "metadata": {
    "editable": true,
    "slideshow": {
     "slide_type": ""
    },
    "tags": []
   },
   "outputs": [],
   "source": [
    "%load_ext autoreload\n",
    "%autoreload 2\n",
    "import numpy as np\n",
    "import matplotlib.pyplot as plt\n",
    "import sys\n",
    "sys.path.append(\"../../analysisTools/\")\n",
    "from analysisTools import Analyzer\n",
    "from analysisTools import loadSchema\n",
    "import analysisSubroutines as routines\n",
    "import coffea.util as util\n",
    "import time\n",
    "import json\n",
    "import os\n",
    "import awkward as ak\n",
    "from coffea.processor import accumulate"
   ]
  },
  {
   "cell_type": "markdown",
   "id": "b1bcf7bb-9887-463a-90d8-764745ef98ec",
   "metadata": {
    "tags": []
   },
   "source": [
    "# signal"
   ]
  },
  {
   "cell_type": "code",
   "execution_count": 2,
   "id": "d43db7bb-9a4b-4b0c-bf70-ac57fb789aed",
   "metadata": {
    "tags": []
   },
   "outputs": [],
   "source": [
    "cut_file = \"cut_configs/cuts.py\"\n",
    "hist_file = \"histo_configs/histos.py\"\n",
    "samp_file = \"../../configs/sample_configs/signal/signal_2018_v11_miniAOD_aEM.json\""
   ]
  },
  {
   "cell_type": "code",
   "execution_count": 3,
   "id": "d467908b-c38d-41ba-95ce-a715f3932b6a",
   "metadata": {
    "tags": []
   },
   "outputs": [
    {
     "data": {
      "application/vnd.jupyter.widget-view+json": {
       "model_id": "732234924e414ed692460f2b15535c68",
       "version_major": 2,
       "version_minor": 0
      },
      "text/plain": [
       "Output()"
      ]
     },
     "metadata": {},
     "output_type": "display_data"
    },
    {
     "data": {
      "text/html": [
       "<pre style=\"white-space:pre;overflow-x:auto;line-height:normal;font-family:Menlo,'DejaVu Sans Mono',consolas,'Courier New',monospace\"></pre>\n"
      ],
      "text/plain": []
     },
     "metadata": {},
     "output_type": "display_data"
    },
    {
     "data": {
      "text/html": [
       "<pre style=\"white-space:pre;overflow-x:auto;line-height:normal;font-family:Menlo,'DejaVu Sans Mono',consolas,'Courier New',monospace\">\n",
       "</pre>\n"
      ],
      "text/plain": [
       "\n"
      ]
     },
     "metadata": {},
     "output_type": "display_data"
    },
    {
     "data": {
      "application/vnd.jupyter.widget-view+json": {
       "model_id": "9b48ffec4e0a49dc87cc70c552c10e6f",
       "version_major": 2,
       "version_minor": 0
      },
      "text/plain": [
       "Output()"
      ]
     },
     "metadata": {},
     "output_type": "display_data"
    },
    {
     "data": {
      "text/html": [
       "<pre style=\"white-space:pre;overflow-x:auto;line-height:normal;font-family:Menlo,'DejaVu Sans Mono',consolas,'Courier New',monospace\"></pre>\n"
      ],
      "text/plain": []
     },
     "metadata": {},
     "output_type": "display_data"
    },
    {
     "data": {
      "text/html": [
       "<pre style=\"white-space:pre;overflow-x:auto;line-height:normal;font-family:Menlo,'DejaVu Sans Mono',consolas,'Courier New',monospace\">\n",
       "</pre>\n"
      ],
      "text/plain": [
       "\n"
      ]
     },
     "metadata": {},
     "output_type": "display_data"
    }
   ],
   "source": [
    "hname = hist_file.split(\"/\")[-1].split(\".\")[0]\n",
    "cutname = cut_file.split(\"/\")[-1].split(\".\")[0]\n",
    "test = Analyzer(samp_file,hist_file,cut_file)\n",
    "out = test.process(execr='futures',workers=80,procType='gen')\n",
    "util.save(out,f\"signal_{hname}_{cutname}.coffea\")\n",
    "del test, out"
   ]
  },
  {
   "cell_type": "markdown",
   "id": "22d28d4c-da44-46fe-96dc-4d03741c9bd6",
   "metadata": {},
   "source": [
    "# bkg"
   ]
  },
  {
   "cell_type": "code",
   "execution_count": 4,
   "id": "395d3f08-90fe-4bf2-90c9-9d84be3382d9",
   "metadata": {
    "tags": []
   },
   "outputs": [],
   "source": [
    "cut_file = \"cut_configs/cuts.py\"\n",
    "hist_file = \"histo_configs/histos.py\"\n",
    "samp_file = \"../../configs/sample_configs/bkg/bkg_2018_v9_miniAOD.json\""
   ]
  },
  {
   "cell_type": "code",
   "execution_count": 5,
   "id": "bfd58192-dc80-4418-8233-0e4d31c7c51c",
   "metadata": {
    "tags": []
   },
   "outputs": [
    {
     "data": {
      "application/vnd.jupyter.widget-view+json": {
       "model_id": "0430c10fcb4040e3affd42d90be23663",
       "version_major": 2,
       "version_minor": 0
      },
      "text/plain": [
       "Output()"
      ]
     },
     "metadata": {},
     "output_type": "display_data"
    },
    {
     "data": {
      "text/html": [
       "<pre style=\"white-space:pre;overflow-x:auto;line-height:normal;font-family:Menlo,'DejaVu Sans Mono',consolas,'Courier New',monospace\"></pre>\n"
      ],
      "text/plain": []
     },
     "metadata": {},
     "output_type": "display_data"
    },
    {
     "data": {
      "text/html": [
       "<pre style=\"white-space:pre;overflow-x:auto;line-height:normal;font-family:Menlo,'DejaVu Sans Mono',consolas,'Courier New',monospace\">\n",
       "</pre>\n"
      ],
      "text/plain": [
       "\n"
      ]
     },
     "metadata": {},
     "output_type": "display_data"
    },
    {
     "data": {
      "application/vnd.jupyter.widget-view+json": {
       "model_id": "3b75b6c0d7f94372915f2820ad4f72ab",
       "version_major": 2,
       "version_minor": 0
      },
      "text/plain": [
       "Output()"
      ]
     },
     "metadata": {},
     "output_type": "display_data"
    },
    {
     "data": {
      "text/html": [
       "<pre style=\"white-space:pre;overflow-x:auto;line-height:normal;font-family:Menlo,'DejaVu Sans Mono',consolas,'Courier New',monospace\"></pre>\n"
      ],
      "text/plain": []
     },
     "metadata": {},
     "output_type": "display_data"
    },
    {
     "data": {
      "text/html": [
       "<pre style=\"white-space:pre;overflow-x:auto;line-height:normal;font-family:Menlo,'DejaVu Sans Mono',consolas,'Courier New',monospace\">\n",
       "</pre>\n"
      ],
      "text/plain": [
       "\n"
      ]
     },
     "metadata": {},
     "output_type": "display_data"
    }
   ],
   "source": [
    "hname = hist_file.split(\"/\")[-1].split(\".\")[0]\n",
    "cutname = cut_file.split(\"/\")[-1].split(\".\")[0]\n",
    "test = Analyzer(samp_file,hist_file,cut_file)\n",
    "out = test.process(execr='futures',workers=80,procType='gen')\n",
    "util.save(out,f\"bkg_{hname}_{cutname}.coffea\")\n",
    "del test, out"
   ]
  },
  {
   "cell_type": "code",
   "execution_count": null,
   "id": "93cc8354-68b3-49b6-b7d6-3583945a492e",
   "metadata": {},
   "outputs": [],
   "source": []
  }
 ],
 "metadata": {
  "kernelspec": {
   "display_name": "Python 3 (ipykernel)",
   "language": "python",
   "name": "py3-preamble"
  },
  "language_info": {
   "codemirror_mode": {
    "name": "ipython",
    "version": 3
   },
   "file_extension": ".py",
   "mimetype": "text/x-python",
   "name": "python",
   "nbconvert_exporter": "python",
   "pygments_lexer": "ipython3",
   "version": "3.9.15"
  }
 },
 "nbformat": 4,
 "nbformat_minor": 5
}
