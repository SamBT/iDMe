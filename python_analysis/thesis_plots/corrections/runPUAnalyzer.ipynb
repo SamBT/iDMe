{
 "cells": [
  {
   "cell_type": "code",
   "execution_count": 1,
   "id": "cacccc0b-3fdf-46c8-aca1-03c4ffb31dfd",
   "metadata": {
    "tags": []
   },
   "outputs": [],
   "source": [
    "%load_ext autoreload\n",
    "%autoreload 2\n",
    "import numpy as np\n",
    "import matplotlib.pyplot as plt\n",
    "import sys\n",
    "sys.path.append(\"../../analysisTools/\")\n",
    "from analysisTools import Analyzer\n",
    "from analysisTools import loadSchema\n",
    "import analysisSubroutines as routines\n",
    "import coffea.util as util\n",
    "import time\n",
    "import json\n",
    "import os\n",
    "import awkward as ak\n",
    "from coffea.processor import accumulate"
   ]
  },
  {
   "cell_type": "code",
   "execution_count": 2,
   "id": "f52d88cc-8133-41b5-bae9-99964a3e251e",
   "metadata": {
    "tags": []
   },
   "outputs": [],
   "source": [
    "cut_file = \"noCuts.py\"\n",
    "hist_file = \"histos.py\"\n",
    "samp_file = \"bkg_2018_v9_miniAOD_QCDonly.json\""
   ]
  },
  {
   "cell_type": "code",
   "execution_count": 3,
   "id": "f9581940-a989-4a10-8133-254d1f2925e4",
   "metadata": {
    "tags": []
   },
   "outputs": [
    {
     "data": {
      "application/vnd.jupyter.widget-view+json": {
       "model_id": "b0fa0d73418a42a29e42646a2daf1e03",
       "version_major": 2,
       "version_minor": 0
      },
      "text/plain": [
       "Output()"
      ]
     },
     "metadata": {},
     "output_type": "display_data"
    },
    {
     "data": {
      "text/html": [
       "<pre style=\"white-space:pre;overflow-x:auto;line-height:normal;font-family:Menlo,'DejaVu Sans Mono',consolas,'Courier New',monospace\"></pre>\n"
      ],
      "text/plain": []
     },
     "metadata": {},
     "output_type": "display_data"
    },
    {
     "data": {
      "text/html": [
       "<pre style=\"white-space:pre;overflow-x:auto;line-height:normal;font-family:Menlo,'DejaVu Sans Mono',consolas,'Courier New',monospace\">\n",
       "</pre>\n"
      ],
      "text/plain": [
       "\n"
      ]
     },
     "metadata": {},
     "output_type": "display_data"
    },
    {
     "data": {
      "application/vnd.jupyter.widget-view+json": {
       "model_id": "95230886e3b14f508ac8943b3da3e967",
       "version_major": 2,
       "version_minor": 0
      },
      "text/plain": [
       "Output()"
      ]
     },
     "metadata": {},
     "output_type": "display_data"
    }
   ],
   "source": [
    "test = Analyzer(samp_file,hist_file,cut_file)\n",
    "out = test.process(execr='futures',workers=80,procType='bare')\n",
    "util.save(out,f\"bkg_PUplots_QCD_2018.coffea\")\n",
    "del test, out"
   ]
  },
  {
   "cell_type": "code",
   "execution_count": null,
   "id": "e0f39719-091f-4da3-9f73-838f4232e8b8",
   "metadata": {},
   "outputs": [],
   "source": []
  }
 ],
 "metadata": {
  "kernelspec": {
   "display_name": "Python 3 (ipykernel)",
   "language": "python",
   "name": "py3-preamble"
  },
  "language_info": {
   "codemirror_mode": {
    "name": "ipython",
    "version": 3
   },
   "file_extension": ".py",
   "mimetype": "text/x-python",
   "name": "python",
   "nbconvert_exporter": "python",
   "pygments_lexer": "ipython3",
   "version": "3.9.15"
  }
 },
 "nbformat": 4,
 "nbformat_minor": 5
}
