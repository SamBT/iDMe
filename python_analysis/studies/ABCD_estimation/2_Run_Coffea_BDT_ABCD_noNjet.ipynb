{
 "cells": [
  {
   "cell_type": "code",
   "execution_count": 1,
   "id": "e669ba8e-d8ae-45e9-bdac-9dabb1da3557",
   "metadata": {},
   "outputs": [],
   "source": [
    "%load_ext autoreload\n",
    "%autoreload 2\n",
    "import numpy as np\n",
    "import matplotlib.pyplot as plt\n",
    "import awkward as ak\n",
    "import sys\n",
    "sys.path.append(\"../../analysisTools/\")\n",
    "from analysisTools import Analyzer\n",
    "from analysisTools import loadSchema\n",
    "import analysisTools as tools\n",
    "import analysisSubroutines as routines\n",
    "import importlib\n",
    "import coffea.util as util\n",
    "import time\n",
    "import json\n",
    "import os\n",
    "import glob"
   ]
  },
  {
   "cell_type": "code",
   "execution_count": 2,
   "id": "c59aff4f-6762-4e07-957a-349d22652fad",
   "metadata": {},
   "outputs": [],
   "source": [
    "outdir = \"./coffea/\"\n",
    "if not os.path.isdir(outdir):\n",
    "    os.mkdir(outdir)"
   ]
  },
  {
   "cell_type": "code",
   "execution_count": 3,
   "id": "73201266-7873-48cb-b6b9-ea70e7703e5b",
   "metadata": {},
   "outputs": [],
   "source": [
    "outdir = \"./coffea/skimmed/\"\n",
    "if not os.path.isdir(outdir):\n",
    "    os.mkdir(outdir)"
   ]
  },
  {
   "cell_type": "code",
   "execution_count": 4,
   "id": "c72681ac-a0f5-402a-8a80-d5f17505b69c",
   "metadata": {},
   "outputs": [],
   "source": [
    "cuts_config = \"./cut_configs/BDT_ABCD_SR_tight.py\"\n",
    "#cuts_config = \"./cut_configs/BDT_ABCD_VR1.py\"\n",
    "#cuts_config = \"./cut_configs/BDT_ABCD_VR2.py\"\n",
    "\n",
    "#histos_config = \"./histo_configs/histos_genMatch.py\"\n",
    "histos_config = \"./histo_configs/histos_SR.py\"\n",
    "#histos_config = \"./histo_configs/histos_minDxy.py\"\n",
    "#histos_config = \"./histo_configs/histos_BDTtheta.py\""
   ]
  },
  {
   "cell_type": "code",
   "execution_count": 23,
   "id": "332c38ba-db6d-4cde-9e46-65c272ab7fee",
   "metadata": {},
   "outputs": [],
   "source": [
    "#outname = 'ABCD_SR_goodvtx_v13_noMinDxy'\n",
    "\n",
    "#outname = 'ABCD_VR1_goodvtx_v14_noMee'\n",
    "\n",
    "#outname = 'ABCD_VR1_goodvtx_v11_noNJetCut_TrueVertex_0p05genmatch'\n",
    "#outname = 'ABCD_VR1_goodvtx_v11_noNJetCut_TrueVertex_0p1genmatch'\n",
    "\n",
    "#outname = 'ABCD_VR1_goodvtx_v11_noNJetCut_TrueVertex_0p1genmatch_e2IDbugfix'\n",
    "#outname = 'ABCD_VR1_goodvtx_v11_noNJetCut'\n",
    "#outname = 'ABCD_VR1_goodvtx_v11_noNJetCut_ABCDscan'\n",
    "#outname = 'ABCD_VR2_goodvtx_v11_noNJetCut_ABCDscan'\n",
    "#outname = 'ABCD_SR_goodvtx_v11_noNJetCut_1jinclusive_TrueVertex'\n",
    "\n",
    "outname = 'ABCD_SR_goodvtx_v11_noNJetCut_1jexclusive_TrueVertex'\n",
    "\n",
    "#outname = 'ABCD_SR_goodvtx_v11'\n",
    "#outname = 'ABCD_VR1_goodvtx_v11_noNjetCut'\n",
    "#outname = 'ABCD_SRplane_goodvtx_v11_ABCDscan'\n",
    "#outname = 'ABCD_VR1plane_goodvtx_v11_ABCDscan'\n",
    "#outname = 'ABCD_VR2plane_goodvtx_v11_ABCDscan'"
   ]
  },
  {
   "cell_type": "markdown",
   "id": "d248ae59-1cd0-45e3-91a1-3462012c6a27",
   "metadata": {},
   "source": [
    "### Signal"
   ]
  },
  {
   "cell_type": "code",
   "execution_count": 24,
   "id": "e0ecc4e0-151c-408b-b400-381d1e1a973e",
   "metadata": {},
   "outputs": [],
   "source": [
    "#sample_config = \"./sample_configs/skimmed_signal_2018_v11_miniAOD_aEM_rdfSkim_MET200_nJetsG0.json\"\n",
    "sample_config = \"./sample_configs/skimmed_signal_2018_v11_miniAOD_aEM_rdfSkim_MET200_nJetsG0_onepoint.json\"\n",
    "\n",
    "#sample_config = \"./sample_configs/skimmed_signal_2018_1j_inclusive.json\"\n",
    "\n",
    "#sample_config = './sample_configs/skimmed_signal_2018_v14_miniAOD_genMatchTight.json'"
   ]
  },
  {
   "cell_type": "code",
   "execution_count": 25,
   "id": "ffb250b7-12f8-43b3-bafc-51560ecb67b7",
   "metadata": {},
   "outputs": [
    {
     "data": {
      "application/vnd.jupyter.widget-view+json": {
       "model_id": "0cd90f92beb0493e932d6609b647abc8",
       "version_major": 2,
       "version_minor": 0
      },
      "text/plain": [
       "Output()"
      ]
     },
     "metadata": {},
     "output_type": "display_data"
    },
    {
     "name": "stderr",
     "output_type": "stream",
     "text": [
      "/uscms/home/kyungmip/nobackup/miniconda3/envs/debug/lib/python3.8/site-packages/awkward/_connect/_numpy.py:195: RuntimeWarning: invalid value encountered in arccos\n",
      "  result = getattr(ufunc, method)(\n"
     ]
    },
    {
     "name": "stdout",
     "output_type": "stream",
     "text": [
      "BDT Pass: 1874/2801\n"
     ]
    },
    {
     "data": {
      "text/html": [
       "<pre style=\"white-space:pre;overflow-x:auto;line-height:normal;font-family:Menlo,'DejaVu Sans Mono',consolas,'Courier New',monospace\"></pre>\n"
      ],
      "text/plain": []
     },
     "metadata": {},
     "output_type": "display_data"
    },
    {
     "data": {
      "text/html": [
       "<pre style=\"white-space:pre;overflow-x:auto;line-height:normal;font-family:Menlo,'DejaVu Sans Mono',consolas,'Courier New',monospace\">\n",
       "</pre>\n"
      ],
      "text/plain": [
       "\n"
      ]
     },
     "metadata": {},
     "output_type": "display_data"
    },
    {
     "name": "stdout",
     "output_type": "stream",
     "text": [
      "Runtime: 0.21 minutes\n"
     ]
    }
   ],
   "source": [
    "# SR / VR2\n",
    "#test = Analyzer(sample_config,histos_config,cuts_config,model_json='./models/BDT_NJetG0_allSigns_goodvtx_v11_max_depth_7_n_estimators_800_lr_0.005.json',\\\n",
    "#               nJet_isNominal=True, good_vtx='v11') # run over all samples in the config\n",
    "\n",
    "# VR1\n",
    "#test = Analyzer(sample_config,histos_config,cuts_config,model_json='./models/BDT_NJetG0_allSigns_goodvtx_v11_max_depth_7_n_estimators_800_lr_0.005.json',\\\n",
    "#               nJet_isNominal=False, good_vtx='v11') # run over all samples in the config\n",
    "\n",
    "# no NJet cut\n",
    "test = Analyzer(sample_config,histos_config,cuts_config,model_json='./models/BDT_NJetG0_allSigns_goodvtx_v11_max_depth_7_n_estimators_800_lr_0.005.json',\\\n",
    "               nJet_isNominal=None, good_vtx='v11') # run over all samples in the config\n",
    "\n",
    "t1 = time.time()\n",
    "out = test.process(execr='futures')\n",
    "t2 = time.time()\n",
    "\n",
    "print(\"Runtime: {:.2f} minutes\".format((t2-t1)/60))\n",
    "\n",
    "util.save(out,f\"{outdir}/signal_{outname}.coffea\")\n",
    "\n",
    "del out, test"
   ]
  },
  {
   "cell_type": "code",
   "execution_count": null,
   "id": "02537ff8-2bb2-4752-bed0-a504affad525",
   "metadata": {
    "scrolled": true
   },
   "outputs": [],
   "source": []
  },
  {
   "cell_type": "code",
   "execution_count": null,
   "id": "655e08ba-2d9b-4863-b37c-5f6436f6d7a1",
   "metadata": {},
   "outputs": [],
   "source": []
  },
  {
   "cell_type": "code",
   "execution_count": null,
   "id": "a748b865-44f6-41e7-b299-cc3a3c23c59e",
   "metadata": {},
   "outputs": [],
   "source": []
  },
  {
   "cell_type": "code",
   "execution_count": null,
   "id": "7c3cb453-b819-408e-be20-a58ce74f3aef",
   "metadata": {},
   "outputs": [],
   "source": []
  },
  {
   "cell_type": "markdown",
   "id": "97b2ff87-c610-4e5a-9d3d-0255d980dbe3",
   "metadata": {},
   "source": [
    "### Background"
   ]
  },
  {
   "cell_type": "code",
   "execution_count": null,
   "id": "c65bc29b-bfda-48ed-84d4-7ea8f8eded39",
   "metadata": {},
   "outputs": [],
   "source": [
    "sample_config = \"./sample_configs/skimmed_bkg_2018_v13_miniAOD.json\""
   ]
  },
  {
   "cell_type": "code",
   "execution_count": null,
   "id": "f7af452c-6938-4868-8307-bd0f6b2e330d",
   "metadata": {
    "scrolled": true
   },
   "outputs": [],
   "source": [
    "# SR / VR2\n",
    "#test = Analyzer(sample_config,histos_config,cuts_config,model_json='./models/BDT_NJetG0_allSigns_goodvtx_v11_max_depth_7_n_estimators_800_lr_0.005.json',\\\n",
    "#               nJet_isNominal=True, good_vtx='v13') # run over all samples in the config\n",
    "\n",
    "# VR1\n",
    "#test = Analyzer(sample_config,histos_config,cuts_config,model_json='./models/BDT_NJetG0_allSigns_goodvtx_v11_max_depth_7_n_estimators_800_lr_0.005.json',\\\n",
    "#               nJet_isNominal=False, good_vtx='v11') # run over all samples in the config\n",
    "\n",
    "# no NJet cut\n",
    "test = Analyzer(sample_config,histos_config,cuts_config,model_json='./models/BDT_NJetG0_allSigns_goodvtx_v11_max_depth_7_n_estimators_800_lr_0.005.json',\\\n",
    "               nJet_isNominal=None, good_vtx='v11') # run over all samples in the config\n",
    "\n",
    "\n",
    "t1 = time.time()\n",
    "out = test.process(execr='futures')\n",
    "t2 = time.time()\n",
    "\n",
    "print(\"Runtime: {:.2f} minutes\".format((t2-t1)/60))\n",
    "\n",
    "util.save(out,f\"{outdir}/bkg_{outname}.coffea\")\n",
    "\n",
    "del out, test"
   ]
  },
  {
   "cell_type": "code",
   "execution_count": null,
   "id": "3f21691e-f05f-463c-a319-fa3f28b9ceb7",
   "metadata": {},
   "outputs": [],
   "source": []
  },
  {
   "cell_type": "markdown",
   "id": "57b51e3e-77b4-4c60-b36a-fad02210c610",
   "metadata": {},
   "source": [
    "## Data"
   ]
  },
  {
   "cell_type": "code",
   "execution_count": 19,
   "id": "600f5b66-2c16-4a33-a6ac-fdec5cd74e18",
   "metadata": {},
   "outputs": [],
   "source": [
    "sample_config = \"./sample_configs/skimmed_data_2018_MET_v7.json\" # WITH refitted mass & HEM veto NOT applied"
   ]
  },
  {
   "cell_type": "code",
   "execution_count": 20,
   "id": "f76b7164-fd53-43bc-9440-53c18035982b",
   "metadata": {},
   "outputs": [
    {
     "data": {
      "application/vnd.jupyter.widget-view+json": {
       "model_id": "d7d2dc100ea74be29adaed1eba6f894e",
       "version_major": 2,
       "version_minor": 0
      },
      "text/plain": [
       "Output()"
      ]
     },
     "metadata": {},
     "output_type": "display_data"
    },
    {
     "name": "stderr",
     "output_type": "stream",
     "text": [
      "/uscms/home/kyungmip/nobackup/miniconda3/envs/debug/lib/python3.8/site-packages/awkward/_connect/_numpy.py:195: RuntimeWarning: invalid value encountered in arccos\n",
      "  result = getattr(ufunc, method)(\n"
     ]
    },
    {
     "name": "stdout",
     "output_type": "stream",
     "text": [
      "BDT Pass: 112/621\n"
     ]
    },
    {
     "name": "stderr",
     "output_type": "stream",
     "text": [
      "/uscms/home/kyungmip/nobackup/miniconda3/envs/debug/lib/python3.8/site-packages/awkward/_connect/_numpy.py:195: RuntimeWarning: invalid value encountered in arccos\n",
      "  result = getattr(ufunc, method)(\n"
     ]
    },
    {
     "name": "stdout",
     "output_type": "stream",
     "text": [
      "BDT Pass: 119/714\n",
      "BDT Pass: 115/722\n",
      "BDT Pass: 146/827\n",
      "BDT Pass: 26/178\n",
      "BDT Pass: 101/602\n"
     ]
    },
    {
     "name": "stderr",
     "output_type": "stream",
     "text": [
      "/uscms/home/kyungmip/nobackup/miniconda3/envs/debug/lib/python3.8/site-packages/awkward/_connect/_numpy.py:195: RuntimeWarning: invalid value encountered in arccos\n",
      "  result = getattr(ufunc, method)(\n"
     ]
    },
    {
     "name": "stdout",
     "output_type": "stream",
     "text": [
      "BDT Pass: 115/573\n",
      "BDT Pass: 115/710\n"
     ]
    },
    {
     "name": "stderr",
     "output_type": "stream",
     "text": [
      "/uscms/home/kyungmip/nobackup/miniconda3/envs/debug/lib/python3.8/site-packages/awkward/_connect/_numpy.py:195: RuntimeWarning: invalid value encountered in arccos\n",
      "  result = getattr(ufunc, method)(\n"
     ]
    },
    {
     "name": "stdout",
     "output_type": "stream",
     "text": [
      "BDT Pass: 92/549\n",
      "BDT Pass: 80/493\n",
      "BDT Pass: 18/149\n",
      "BDT Pass: 37/239\n",
      "BDT Pass: 106/574\n",
      "BDT Pass: 23/149\n",
      "BDT Pass: 62/326\n",
      "BDT Pass: 111/635\n",
      "BDT Pass: 177/914\n"
     ]
    },
    {
     "data": {
      "text/html": [
       "<pre style=\"white-space:pre;overflow-x:auto;line-height:normal;font-family:Menlo,'DejaVu Sans Mono',consolas,'Courier New',monospace\"></pre>\n"
      ],
      "text/plain": []
     },
     "metadata": {},
     "output_type": "display_data"
    },
    {
     "data": {
      "text/html": [
       "<pre style=\"white-space:pre;overflow-x:auto;line-height:normal;font-family:Menlo,'DejaVu Sans Mono',consolas,'Courier New',monospace\">\n",
       "</pre>\n"
      ],
      "text/plain": [
       "\n"
      ]
     },
     "metadata": {},
     "output_type": "display_data"
    },
    {
     "name": "stdout",
     "output_type": "stream",
     "text": [
      "Runtime: 1.62 minutes\n"
     ]
    }
   ],
   "source": [
    "# VR1\n",
    "analyzer = Analyzer(sample_config,histos_config,cuts_config,model_json='./models/BDT_NJetG0_allSigns_goodvtx_v11_max_depth_7_n_estimators_800_lr_0.005.json',\\\n",
    "               nJet_isNominal=None, good_vtx='v11') # run over all samples in the config\n",
    "\n",
    "# VR2\n",
    "#analyzer = Analyzer(sample_config,histos_config,cuts_config,model_json='./models/BDT_NJetG0_allSigns_goodvtx_v11_max_depth_7_n_estimators_800_lr_0.005.json',\\\n",
    "#               nJet_isNominal=True, good_vtx='v11') # run over all samples in the config\n",
    "\n",
    "\n",
    "t1 = time.time()\n",
    "out = analyzer.process(execr='futures')\n",
    "t2 = time.time()\n",
    "\n",
    "print(\"Runtime: {:.2f} minutes\".format((t2-t1)/60))\n",
    "\n",
    "util.save(out,f\"{outdir}/data_{outname}.coffea\")\n",
    "\n",
    "del out, analyzer"
   ]
  },
  {
   "cell_type": "code",
   "execution_count": null,
   "id": "c05412ee-b0b6-45fd-beda-cc47f37cf248",
   "metadata": {},
   "outputs": [],
   "source": []
  },
  {
   "cell_type": "code",
   "execution_count": null,
   "id": "7b8e902d-0350-4e35-97d7-5515eca6c1e3",
   "metadata": {},
   "outputs": [],
   "source": []
  }
 ],
 "metadata": {
  "kernelspec": {
   "display_name": "Python 3 (ipykernel)",
   "language": "python",
   "name": "python3"
  },
  "language_info": {
   "codemirror_mode": {
    "name": "ipython",
    "version": 3
   },
   "file_extension": ".py",
   "mimetype": "text/x-python",
   "name": "python",
   "nbconvert_exporter": "python",
   "pygments_lexer": "ipython3",
   "version": "3.8.17"
  }
 },
 "nbformat": 4,
 "nbformat_minor": 5
}
